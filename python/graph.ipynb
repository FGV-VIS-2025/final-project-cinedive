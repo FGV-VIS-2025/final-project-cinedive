{
 "cells": [
  {
   "cell_type": "code",
   "execution_count": 1,
   "metadata": {},
   "outputs": [
    {
     "name": "stdout",
     "output_type": "stream",
     "text": [
      "Proceso finalizado. Se procesaron 25650 nodos y se eliminaron campos de country.\n"
     ]
    }
   ],
   "source": [
    "import json\n",
    "\n",
    "# 1. Ruta de entrada/salida: ajusta según corresponda\n",
    "INPUT_PATH  = \"/home/lenovo/Documentos/repos/final-project-cinedive/static/data/graph_for_project.json\"\n",
    "OUTPUT_PATH = \"/home/lenovo/Documentos/repos/final-project-cinedive/static/data/graph_for_project_sin_country.json\"\n",
    "\n",
    "def procesar_json(input_path, output_path):\n",
    "    # 1. Leer JSON original\n",
    "    with open(input_path, \"r\", encoding=\"utf-8\") as f:\n",
    "        grafo = json.load(f)\n",
    "\n",
    "    nodos = grafo.get(\"nodes\", [])\n",
    "\n",
    "    # 2. Eliminar cualquier campo relacionado con \"country\" en cada nodo\n",
    "    for nodo in nodos:\n",
    "        if \"country_origin\" in nodo:\n",
    "            nodo.pop(\"country_origin\", None)\n",
    "        # Si hubiera otros campos que incluyan la palabra \"country\", se pueden eliminar así:\n",
    "        # for clave in list(nodo.keys()):\n",
    "        #     if \"country\" in clave:\n",
    "        #         nodo.pop(clave, None)\n",
    "\n",
    "    # 3. Guardar nuevo JSON sin campos de país\n",
    "    with open(output_path, \"w\", encoding=\"utf-8\") as f_out:\n",
    "        json.dump(grafo, f_out, ensure_ascii=False, indent=2)\n",
    "\n",
    "    print(f\"Proceso finalizado. Se procesaron {len(nodos)} nodos y se eliminaron campos de country.\")\n",
    "\n",
    "if __name__ == \"__main__\":\n",
    "    procesar_json(INPUT_PATH, OUTPUT_PATH)\n"
   ]
  }
 ],
 "metadata": {
  "kernelspec": {
   "display_name": "tacd",
   "language": "python",
   "name": "python3"
  },
  "language_info": {
   "codemirror_mode": {
    "name": "ipython",
    "version": 3
   },
   "file_extension": ".py",
   "mimetype": "text/x-python",
   "name": "python",
   "nbconvert_exporter": "python",
   "pygments_lexer": "ipython3",
   "version": "3.10.16"
  }
 },
 "nbformat": 4,
 "nbformat_minor": 2
}
