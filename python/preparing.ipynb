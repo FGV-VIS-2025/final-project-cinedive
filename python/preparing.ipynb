{
 "cells": [
  {
   "cell_type": "code",
   "execution_count": 7,
   "id": "86163379",
   "metadata": {},
   "outputs": [
    {
     "name": "stdout",
     "output_type": "stream",
     "text": [
      "5100 películas escritas en /home/ximena/Documentos/repos/final-project-cinedive/python/archive/oscar_with_extras.csv\n"
     ]
    }
   ],
   "source": [
    "import pandas as pd\n",
    "\n",
    "# 1. Lee el TSV con sep='\\t'\n",
    "oscar_df = pd.read_csv(\n",
    "    '/home/ximena/Documentos/repos/final-project-cinedive/python/archive/title_oscar.tsv',\n",
    "    sep='\\t',                          # importante: tabulator\n",
    "    dtype={'tconst': str},\n",
    "    engine='python',                   # más tolerante con líneas complejas\n",
    "    quoting=3                          # csv.QUOTE_NONE para no romper en comillas\n",
    ")\n",
    "\n",
    "# 2. Lee el CSV normal\n",
    "movies_df = pd.read_csv(\n",
    "    '/home/ximena/Documentos/repos/final-project-cinedive/python/archive/TMDB_movie_dataset_v11.csv',\n",
    "    dtype={'imdb_id': str},\n",
    "    parse_dates=['release_date'],\n",
    "    engine='python'\n",
    ")\n",
    "\n",
    "# 3. Filtra sólo las nominadas\n",
    "oscar_df = oscar_df[oscar_df['oscarNominations'] > 0]\n",
    "\n",
    "# 5. Guarda el resultado\n",
    "outpath = '/home/ximena/Documentos/repos/final-project-cinedive/python/archive/oscar_with_extras.csv'\n",
    "oscar_df.to_csv(outpath, index=False)\n",
    "print(f\"{len(oscar_df)} películas escritas en {outpath}\")\n"
   ]
  }
 ],
 "metadata": {
  "kernelspec": {
   "display_name": "vistarefa4",
   "language": "python",
   "name": "python3"
  },
  "language_info": {
   "codemirror_mode": {
    "name": "ipython",
    "version": 3
   },
   "file_extension": ".py",
   "mimetype": "text/x-python",
   "name": "python",
   "nbconvert_exporter": "python",
   "pygments_lexer": "ipython3",
   "version": "3.10.16"
  }
 },
 "nbformat": 4,
 "nbformat_minor": 5
}
